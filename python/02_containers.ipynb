{
 "cells": [
  {
   "cell_type": "markdown",
   "metadata": {},
   "source": [
    "# Containers\n",
    "## I. Container\n",
    "### (1) List(배열)\n",
    "- 순서가 있는 데이터\n",
    "\n",
    "### (2) Dictionary\n",
    "- `key : value` 구분하는 데이터\n",
    "\n",
    "### (3) Set\n",
    "- 순서가 없고, 중복값을 허용하지 않는 데이터\n"
   ]
  },
  {
   "cell_type": "markdown",
   "metadata": {},
   "source": [
    "## (1) List(배열)\n",
    "\n",
    "### 1. List Comprehension\n",
    "- 입력 : 순회, 조건을 적용한 나열된 자료(list, range, tuple)\n",
    "- 출력 : List를 생성"
   ]
  },
  {
   "cell_type": "code",
   "execution_count": 19,
   "metadata": {},
   "outputs": [
    {
     "name": "stdout",
     "output_type": "stream",
     "text": [
      "[2, 4, 6, 8, 10]\n",
      "[2, 4, 6, 8, 10]\n",
      "30\n",
      "55\n"
     ]
    }
   ],
   "source": [
    "# 1부터 10까지 짝수들의 List인 evens를 만드시오\n",
    "\n",
    "evens = []\n",
    "for i in range(1, 11):\n",
    "    if not i%2:\n",
    "        evens.append(i)\n",
    "print(evens)\n",
    "\n",
    "evens_comp = [i for i in range(1,11) if not i%2]\n",
    "print(evens_comp)\n",
    "\n",
    "# 1부터 10까지의 짝수들의 합을 구하시오\n",
    "print(sum(evens))\n",
    "print(sum([i for i in range(1,11)]))"
   ]
  },
  {
   "cell_type": "code",
   "execution_count": null,
   "metadata": {},
   "outputs": [],
   "source": []
  },
  {
   "cell_type": "code",
   "execution_count": null,
   "metadata": {},
   "outputs": [],
   "source": []
  },
  {
   "cell_type": "code",
   "execution_count": null,
   "metadata": {},
   "outputs": [],
   "source": []
  },
  {
   "cell_type": "code",
   "execution_count": null,
   "metadata": {},
   "outputs": [],
   "source": []
  },
  {
   "cell_type": "code",
   "execution_count": null,
   "metadata": {},
   "outputs": [],
   "source": []
  }
 ],
 "metadata": {
  "kernelspec": {
   "display_name": "Python 3",
   "language": "python",
   "name": "python3"
  },
  "language_info": {
   "codemirror_mode": {
    "name": "ipython",
    "version": 3
   },
   "file_extension": ".py",
   "mimetype": "text/x-python",
   "name": "python",
   "nbconvert_exporter": "python",
   "pygments_lexer": "ipython3",
   "version": "3.8.3"
  }
 },
 "nbformat": 4,
 "nbformat_minor": 4
}
