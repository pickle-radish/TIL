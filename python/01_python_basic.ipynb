{
 "cells": [
  {
   "cell_type": "markdown",
   "metadata": {},
   "source": [
    "# 파이썬 기초\n",
    "### 저장\n",
    "- 어떻게\n",
    "- 어디에\n",
    "- 무엇을\n",
    "### 계산(조작)\n",
    "- 조건\n",
    "- 반복\n",
    "\n",
    "### 함수"
   ]
  },
  {
   "cell_type": "markdown",
   "metadata": {},
   "source": [
    "## 저장\n",
    "### 어떻게(=)\n",
    "- '='\n",
    "### 무엇을\n",
    "1. 숫자\n",
    "2. 글자\n",
    "3. 참/거짓\n",
    "#### 1. 숫자\n",
    "- 'int', 'float`"
   ]
  },
  {
   "cell_type": "code",
   "execution_count": 6,
   "metadata": {},
   "outputs": [
    {
     "name": "stdout",
     "output_type": "stream",
     "text": [
      "365\n"
     ]
    }
   ],
   "source": [
    "print(365)"
   ]
  },
  {
   "cell_type": "code",
   "execution_count": 7,
   "metadata": {},
   "outputs": [
    {
     "name": "stdout",
     "output_type": "stream",
     "text": [
      "2.7\n"
     ]
    }
   ],
   "source": [
    "print(2.7)"
   ]
  },
  {
   "cell_type": "markdown",
   "metadata": {},
   "source": [
    "#### 2. 글자(문자열)\n",
    "- 문자열 `''`, `\"\"`"
   ]
  },
  {
   "cell_type": "markdown",
   "metadata": {},
   "source": [
    "#### 3. 참/거짓(boolean, 불리언)\n",
    "- `True, False`"
   ]
  },
  {
   "cell_type": "markdown",
   "metadata": {},
   "source": [
    "### 어디에(container)\n",
    "- 변수\n",
    "- 배열(리스트)\n",
    "- 딕셔너리 - 오브젝트(key, value)\n",
    "\n",
    "#### 식별자(identifier)\n",
    "변수명, 리스트명, 딕셔너리명\n",
    "\n",
    "#### 주석\n",
    "- '#' : 한 줄 주석(single-line comment)\n",
    "- `\"\"\" \"\"\"` or `''' '''`: 여러 줄 주석(multi-line comment)"
   ]
  },
  {
   "cell_type": "code",
   "execution_count": 16,
   "metadata": {},
   "outputs": [
    {
     "name": "stdout",
     "output_type": "stream",
     "text": [
      "['False', 'None', 'True', 'and', 'as', 'assert', 'async', 'await', 'break', 'class', 'continue', 'def', 'del', 'elif', 'else', 'except', 'finally', 'for', 'from', 'global', 'if', 'import', 'in', 'is', 'lambda', 'nonlocal', 'not', 'or', 'pass', 'raise', 'return', 'try', 'while', 'with', 'yield']\n"
     ]
    },
    {
     "data": {
      "text/plain": [
       "'\\n이것도 여러 줄 주석입니다.\\n'"
      ]
     },
     "execution_count": 16,
     "metadata": {},
     "output_type": "execute_result"
    }
   ],
   "source": [
    "import keyword\n",
    "print(keyword.kwlist)\n",
    "\n",
    "# 변수명으로 쓰지 말아야 할 예약어들\n",
    "\"\"\"\n",
    "이건 여러 줄 주석입니다.\n",
    "\"\"\"\n",
    "\n",
    "'''\n",
    "이것도 여러 줄 주석입니다.\n",
    "'''"
   ]
  },
  {
   "cell_type": "markdown",
   "metadata": {},
   "source": [
    "#### 내장함수 역시 변수명으로 써서는 안된다"
   ]
  },
  {
   "cell_type": "code",
   "execution_count": 14,
   "metadata": {},
   "outputs": [
    {
     "data": {
      "text/plain": [
       "123"
      ]
     },
     "execution_count": 14,
     "metadata": {},
     "output_type": "execute_result"
    }
   ],
   "source": [
    "str(123)\n",
    "int('123')"
   ]
  },
  {
   "cell_type": "code",
   "execution_count": 17,
   "metadata": {},
   "outputs": [
    {
     "name": "stdout",
     "output_type": "stream",
     "text": [
      "hello\n"
     ]
    }
   ],
   "source": [
    "greeting = 'hello'\n",
    "print(greeting)"
   ]
  },
  {
   "cell_type": "code",
   "execution_count": 23,
   "metadata": {},
   "outputs": [
    {
     "name": "stdout",
     "output_type": "stream",
     "text": [
      "<class 'str'>\n",
      "<class 'int'>\n",
      "<class 'float'>\n",
      "<class 'list'>\n",
      "<class 'dict'>\n"
     ]
    }
   ],
   "source": [
    "print(type(greeting))\n",
    "print(type(1000))\n",
    "print(type(3.5))\n",
    "print(type([]))\n",
    "print(type({}))"
   ]
  },
  {
   "cell_type": "code",
   "execution_count": 26,
   "metadata": {},
   "outputs": [
    {
     "name": "stdout",
     "output_type": "stream",
     "text": [
      "1\n"
     ]
    }
   ],
   "source": [
    "arr = [1, 2, 3, 4, 5]\n",
    "print(arr[0])"
   ]
  },
  {
   "cell_type": "markdown",
   "metadata": {},
   "source": [
    "### 배열\n",
    "- negative index\n",
    "- slice"
   ]
  },
  {
   "cell_type": "code",
   "execution_count": 37,
   "metadata": {},
   "outputs": [
    {
     "name": "stdout",
     "output_type": "stream",
     "text": [
      "5\n",
      "4\n",
      "[2, 3]\n"
     ]
    }
   ],
   "source": [
    "arr = [1, 2, 3, 4, 5]\n",
    "\n",
    "print(arr[-1])\n",
    "print(arr[-2])\n",
    "\n",
    "# arr[시작 인덱스 : 끝 인덱스]\n",
    "print(arr[1:3])"
   ]
  },
  {
   "cell_type": "code",
   "execution_count": 41,
   "metadata": {},
   "outputs": [
    {
     "name": "stdout",
     "output_type": "stream",
     "text": [
      "['__add__', '__class__', '__contains__', '__delattr__', '__delitem__', '__dir__', '__doc__', '__eq__', '__format__', '__ge__', '__getattribute__', '__getitem__', '__gt__', '__hash__', '__iadd__', '__imul__', '__init__', '__init_subclass__', '__iter__', '__le__', '__len__', '__lt__', '__mul__', '__ne__', '__new__', '__reduce__', '__reduce_ex__', '__repr__', '__reversed__', '__rmul__', '__setattr__', '__setitem__', '__sizeof__', '__str__', '__subclasshook__', 'append', 'clear', 'copy', 'count', 'extend', 'index', 'insert', 'pop', 'remove', 'reverse', 'sort']\n"
     ]
    }
   ],
   "source": [
    "arr = [1,2,3,4]\n",
    "print(dir(arr))"
   ]
  },
  {
   "cell_type": "code",
   "execution_count": 44,
   "metadata": {},
   "outputs": [
    {
     "name": "stdout",
     "output_type": "stream",
     "text": [
      "4\n"
     ]
    }
   ],
   "source": [
    "print(len(arr))"
   ]
  },
  {
   "cell_type": "markdown",
   "metadata": {},
   "source": [
    "### 배열 \n",
    "#### method\n",
    "- `.append` : `.push()`\n",
    "- `.count()` : 원소의 개수를 출력\n",
    "- `.index` : `.indexOf()` 해당 원소의 인덱스를 출력\n",
    "- `.pop()` : 마지막 요소가 return \n",
    "- `.insert()`: 요소를 삽입\n",
    "- `.remove()` : 요소를 삭제"
   ]
  },
  {
   "cell_type": "code",
   "execution_count": 50,
   "metadata": {},
   "outputs": [
    {
     "name": "stdout",
     "output_type": "stream",
     "text": [
      "[0, 1, 2, 3, 4, 5]\n"
     ]
    }
   ],
   "source": [
    "arr=[1, 2, 3, 4, 5]\n",
    "arr.insert(0, 0)\n",
    "print(arr)"
   ]
  },
  {
   "cell_type": "code",
   "execution_count": 51,
   "metadata": {},
   "outputs": [
    {
     "name": "stdout",
     "output_type": "stream",
     "text": [
      "[0, 1, 2, 4, 5]\n"
     ]
    }
   ],
   "source": [
    "arr. remove(3)\n",
    "print(arr)"
   ]
  },
  {
   "cell_type": "markdown",
   "metadata": {},
   "source": [
    "#### 내장함수\n",
    "- `len()`\n",
    "- `max()`\n",
    "- `min()`\n",
    "- `sorted()`\n",
    "- `reversed()`"
   ]
  },
  {
   "cell_type": "code",
   "execution_count": 62,
   "metadata": {},
   "outputs": [
    {
     "name": "stdout",
     "output_type": "stream",
     "text": [
      "4\n",
      "4\n",
      "1\n",
      "[1, 2, 3, 4]\n",
      "[1, 2, 3, 4]\n"
     ]
    }
   ],
   "source": [
    "arr = [4,3,2,1]\n",
    "print(len(arr))\n",
    "print(max(arr))\n",
    "print(min(arr))\n",
    "print(sorted(arr))\n",
    "print(list(reversed(arr)))"
   ]
  },
  {
   "cell_type": "markdown",
   "metadata": {},
   "source": [
    "## 조건 & 반복\n",
    "\n",
    "### 조건\n",
    "```javascript\n",
    "if(조건식){\n",
    "    표현식\n",
    "}\n",
    "```\n",
    "```py\n",
    "if 조건식 :\n",
    "    표현식\n",
    "```\n",
    "- 조건식의 괄호 생략 가능\n",
    "- `{}`로 표현되던 표현식이 `:`이후의 들여쓰기로 표현"
   ]
  },
  {
   "cell_type": "code",
   "execution_count": 66,
   "metadata": {},
   "outputs": [
    {
     "name": "stdout",
     "output_type": "stream",
     "text": [
      "짝수\n"
     ]
    }
   ],
   "source": [
    "# 홀수 판별\n",
    "n = 10\n",
    "if n % 2 != 0:\n",
    "    print(\"홀수\")\n",
    "else:\n",
    "    print('짝수')"
   ]
  },
  {
   "cell_type": "code",
   "execution_count": 69,
   "metadata": {},
   "outputs": [
    {
     "name": "stdout",
     "output_type": "stream",
     "text": [
      "좋음\n"
     ]
    }
   ],
   "source": [
    "dust = 30\n",
    "\n",
    "if dust > 150:\n",
    "    print(\"매우 나쁨\")\n",
    "elif dust > 80:\n",
    "    print('나쁨')\n",
    "elif dust > 30:\n",
    "    print('보통')\n",
    "else:\n",
    "    print('좋음')"
   ]
  },
  {
   "cell_type": "markdown",
   "metadata": {},
   "source": [
    "### 반복문\n",
    "- `while()` : 조건이 충족될때까지 계속해서 반복 Looping\n",
    "- `for` : 자료를 순회 Iteration"
   ]
  },
  {
   "cell_type": "code",
   "execution_count": 72,
   "metadata": {},
   "outputs": [
    {
     "name": "stdout",
     "output_type": "stream",
     "text": [
      "하이\n",
      "하이\n",
      "하이\n",
      "하이\n"
     ]
    }
   ],
   "source": [
    "n = 0\n",
    "while n < 4 :\n",
    "    print('하이')\n",
    "    n+=1"
   ]
  },
  {
   "cell_type": "markdown",
   "metadata": {},
   "source": [
    "#### 기존의 Javascript for문\n",
    "```javascript\n",
    "for (let i=0; i<arr.length; i++){\n",
    "    console.log(arr[i])\n",
    "}\n",
    "\n",
    "arr.forEach(e=>{\n",
    "    console.log(e)\n",
    "})\n",
    "\n",
    "for (let e of arr){\n",
    "    console.log(e)\n",
    "}\n",
    "```"
   ]
  },
  {
   "cell_type": "code",
   "execution_count": 81,
   "metadata": {},
   "outputs": [
    {
     "name": "stdout",
     "output_type": "stream",
     "text": [
      "1\n",
      "2\n",
      "3\n",
      "4\n",
      "5\n",
      "1\n",
      "2\n",
      "3\n",
      "4\n",
      "5\n"
     ]
    }
   ],
   "source": [
    "\"\"\"\n",
    "for (let e of arr){\n",
    "    console.log(e)\n",
    "}\n",
    "\"\"\"\n",
    "arr=[1, 2, 3, 4, 5]\n",
    "\n",
    "for e in arr:\n",
    "    print(e)\n",
    "\n",
    "for i in range(len(arr)):\n",
    "    # 0, 1, 2, 3, 4\n",
    "    print(arr[i])"
   ]
  }
 ],
 "metadata": {
  "kernelspec": {
   "display_name": "Python 3",
   "language": "python",
   "name": "python3"
  },
  "language_info": {
   "codemirror_mode": {
    "name": "ipython",
    "version": 3
   },
   "file_extension": ".py",
   "mimetype": "text/x-python",
   "name": "python",
   "nbconvert_exporter": "python",
   "pygments_lexer": "ipython3",
   "version": "3.8.3"
  }
 },
 "nbformat": 4,
 "nbformat_minor": 4
}
